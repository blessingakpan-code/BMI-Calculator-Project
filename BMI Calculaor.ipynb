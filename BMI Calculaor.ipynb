{
 "cells": [
  {
   "cell_type": "markdown",
   "id": "7080447d",
   "metadata": {},
   "source": [
    "BMI Calculator"
   ]
  },
  {
   "cell_type": "code",
   "execution_count": null,
   "id": "5919091c",
   "metadata": {},
   "outputs": [],
   "source": []
  },
  {
   "cell_type": "code",
   "execution_count": 5,
   "id": "bd7236fd",
   "metadata": {},
   "outputs": [
    {
     "name": "stdout",
     "output_type": "stream",
     "text": [
      "Enter your name: Blessing\n",
      "Enter your weight in pounds: 170\n",
      "Enter your height in inches: 69\n",
      "Your BMI is 25.101869355177485\n",
      "Blessing, You are overweight.\n"
     ]
    }
   ],
   "source": [
    "name = input(\"Enter your name: \")\n",
    "\n",
    "weight = int(input(\"Enter your weight in pounds: \"))\n",
    "\n",
    "height = int(input(\"Enter your height in inches: \"))\n",
    "\n",
    "BMI = (weight * 703) / (height * height)\n",
    "print(\"Your BMI is \" + str(BMI))\n",
    "\n",
    "\n",
    "if BMI>0:\n",
    "    if (BMI<18.5):\n",
    "        print(name +\", You are underweight.\")\n",
    "    elif (BMI<=24.9):\n",
    "        print(name+\", You are normal weight.\")\n",
    "    elif (BMI<29.9):\n",
    "        print(name+\", You are overweight.\")\n",
    "    elif (BMI<34.9):\n",
    "        print(name+\", You are obese.\")\n",
    "    elif (BMI<39.9):\n",
    "        print(name+\", You are severely obese.\")\n",
    "    else:\n",
    "        print(name+\", You are morbidly obese.\")\n",
    "else:\n",
    "    print(\"Enter valid inputs\")"
   ]
  },
  {
   "cell_type": "code",
   "execution_count": null,
   "id": "008e56d8",
   "metadata": {},
   "outputs": [],
   "source": []
  }
 ],
 "metadata": {
  "kernelspec": {
   "display_name": "Python 3 (ipykernel)",
   "language": "python",
   "name": "python3"
  },
  "language_info": {
   "codemirror_mode": {
    "name": "ipython",
    "version": 3
   },
   "file_extension": ".py",
   "mimetype": "text/x-python",
   "name": "python",
   "nbconvert_exporter": "python",
   "pygments_lexer": "ipython3",
   "version": "3.9.12"
  }
 },
 "nbformat": 4,
 "nbformat_minor": 5
}
